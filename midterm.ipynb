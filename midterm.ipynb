{
  "cells": [
    {
      "cell_type": "markdown",
      "metadata": {
        "id": "view-in-github",
        "colab_type": "text"
      },
      "source": [
        "<a href=\"https://colab.research.google.com/github/vaibs-max/assignments-/blob/main/midterm.ipynb\" target=\"_parent\"><img src=\"https://colab.research.google.com/assets/colab-badge.svg\" alt=\"Open In Colab\"/></a>"
      ]
    },
    {
      "cell_type": "markdown",
      "metadata": {
        "id": "Rhx-0Oo6Lhlk"
      },
      "source": [
        "### Mid-term for HDS5210\n",
        "\n",
        "Your supervisor is concerned about 4-year survival risks for COPD. She has asked for you to do some analysis using a new metric, BODE. BODE is an improvement on a previous metric and promises to provide insight on survival risks.\n",
        "\n",
        "BODE is defined here. https://www.mdcalc.com/calc/3916/bode-index-copd-survival#evidence\n",
        "\n",
        "Your assignment is to create a BODE calculation, use it to calculate BODE scores and BODE survival rates for a group of patients. Then we want to evaluate the average BODE scores and BODE survival rates for each area hospital.\n",
        "\n",
        "Your patient input file will have the following columns:\n",
        "NAME,SSN,LANGUAGE,JOB,HEIGHT_M,WEIGHT_KG,fev_pct,dyspnea_description,distance_in_meters,hospital\n",
        "\n",
        "BODE calculations require a BMI value, so you will have to create a function for it.\n",
        "\n",
        "Your output should be in the form of two CSV files, patient_output.csv and hospital_output.csv.\n",
        "\n",
        "Patient_output will have the following columns:\n",
        "NAME,BODE_SCORE,BODE_RISK,HOSPITAL\n",
        "\n",
        "Hospital output will have the following columns:\n",
        "HOSPITAL_NAME, COPD_COUNT, PCT_OF_COPD_CASES_OVER_BEDS, AVG_SCORE, AVG_RISK\n",
        "\n",
        "Each function you create should have documentation and a suitable number of test cases. If the input data could be wrong, make sure to raise a Value Error.\n",
        "\n",
        "For this assignment, use the doctest, json, and csv libraries. Pandas is not allowed for this assignment."
      ]
    },
    {
      "cell_type": "code",
      "execution_count": 99,
      "metadata": {
        "id": "T1XWzUYCLhll"
      },
      "outputs": [],
      "source": [
        "import doctest\n",
        "import json\n",
        "import csv"
      ]
    },
    {
      "cell_type": "markdown",
      "metadata": {
        "id": "0ktaRPdOLhlm"
      },
      "source": [
        "### Step 1: Calculate BMI"
      ]
    },
    {
      "cell_type": "code",
      "execution_count": 100,
      "metadata": {
        "id": "_UeKJ79HLhlm"
      },
      "outputs": [],
      "source": [
        "def bmi(weight, height):\n",
        "   if weight <= 0 or height <= 0:\n",
        "        raise ValueError(\"Weight and height must be positive numbers.\")\n",
        "\n",
        "   return weight/(height**2)"
      ]
    },
    {
      "cell_type": "code",
      "source": [
        "bmi(100,155)"
      ],
      "metadata": {
        "colab": {
          "base_uri": "https://localhost:8080/"
        },
        "id": "59O7_TjEcNmq",
        "outputId": "742d64dc-f3da-47e0-972a-381e49c1c891"
      },
      "execution_count": 101,
      "outputs": [
        {
          "output_type": "execute_result",
          "data": {
            "text/plain": [
              "0.004162330905306972"
            ]
          },
          "metadata": {},
          "execution_count": 101
        }
      ]
    },
    {
      "cell_type": "code",
      "source": [
        "bmi(70, 1.75)"
      ],
      "metadata": {
        "colab": {
          "base_uri": "https://localhost:8080/"
        },
        "id": "n8OlP2pMc1fr",
        "outputId": "0ab1ce9c-e84a-47f4-94a7-921329167674"
      },
      "execution_count": 102,
      "outputs": [
        {
          "output_type": "execute_result",
          "data": {
            "text/plain": [
              "22.857142857142858"
            ]
          },
          "metadata": {},
          "execution_count": 102
        }
      ]
    },
    {
      "cell_type": "code",
      "source": [
        "bmi(50, 1.6)"
      ],
      "metadata": {
        "colab": {
          "base_uri": "https://localhost:8080/"
        },
        "id": "nV9R3ZlKdQCC",
        "outputId": "188ca703-2c34-4682-b885-eb649e21733f"
      },
      "execution_count": 103,
      "outputs": [
        {
          "output_type": "execute_result",
          "data": {
            "text/plain": [
              "19.531249999999996"
            ]
          },
          "metadata": {},
          "execution_count": 103
        }
      ]
    },
    {
      "cell_type": "markdown",
      "metadata": {
        "id": "ceLSFulMLhlm"
      },
      "source": [
        "### Step 2: Calculate BODE Score"
      ]
    },
    {
      "cell_type": "code",
      "execution_count": 104,
      "metadata": {
        "id": "3gm_NvNDLhlm"
      },
      "outputs": [],
      "source": [
        "def bode_score(bmi, fev_pct, dyspnea, distance):\n",
        "    score = 0\n",
        "\n",
        "    if fev_pct >= 65: score += 0\n",
        "    elif 50 <= fev_pct < 65: score += 1\n",
        "    elif 36 <= fev_pct < 50: score += 2\n",
        "    else: score += 3\n",
        "\n",
        "    #if dyspnea == 'Dyspnea only with strenuous exercise': score += 0\n",
        "    #elif dyspnea == 'Dyspnea when hurrying or walking up a slight hill': score += 1\n",
        "    #elif dyspnea == 'Walks slower than people of same age because of dyspnea or stops for breath when walking at own pace': score += 2\n",
        "    #elif dyspnea == 'Stops for breath after walking 100 yards (91 m) or after a few minutes': score += 3\n",
        "    #elif dyspnea == 'Too dyspneic to leave house or breathless when dressing': score += 4\n",
        "\n",
        "    dyspnea_mapping = {\n",
        "        'ONLY STRENUOUS EXERCISE': 0,\n",
        "        'WHEN HURRYING': 1,\n",
        "        'WALKING UPHILL': 1,\n",
        "        'SLOWER THAN PEERS': 2,\n",
        "        'STOPS WHEN WALKING AT PACE': 2,\n",
        "        'STOPS AFTER 100 YARDS': 3,\n",
        "        'STOPS AFTER A FEW MINUTES': 3,\n",
        "        'UNABLE TO LEAVE HOME': 4,\n",
        "        'BREATHLESS WHEN DRESSING': 4\n",
        "    }\n",
        "\n",
        "    score += dyspnea_mapping.get(dyspnea, 0)\n",
        "\n",
        "    if distance >= 350: score += 0\n",
        "    elif 250 <= distance < 350: score += 1\n",
        "    elif 150 <= distance < 250: score += 2\n",
        "    else: score += 3\n",
        "\n",
        "    if bmi <= 21: score += 1\n",
        "\n",
        "    return score"
      ]
    },
    {
      "cell_type": "code",
      "source": [
        "bode_score(21.5, 50, 3, 400)"
      ],
      "metadata": {
        "colab": {
          "base_uri": "https://localhost:8080/"
        },
        "id": "ng0Aj-2Gfmcx",
        "outputId": "0c40a2a3-fe24-4eba-e47c-5cf7938d29d1"
      },
      "execution_count": 105,
      "outputs": [
        {
          "output_type": "execute_result",
          "data": {
            "text/plain": [
              "1"
            ]
          },
          "metadata": {},
          "execution_count": 105
        }
      ]
    },
    {
      "cell_type": "code",
      "source": [
        "bode_score(22, 40, 2, 329)"
      ],
      "metadata": {
        "colab": {
          "base_uri": "https://localhost:8080/"
        },
        "id": "kE8Z89KgfzQP",
        "outputId": "e4a563a2-75d8-4041-ab9f-71817e6e1714"
      },
      "execution_count": 106,
      "outputs": [
        {
          "output_type": "execute_result",
          "data": {
            "text/plain": [
              "3"
            ]
          },
          "metadata": {},
          "execution_count": 106
        }
      ]
    },
    {
      "cell_type": "markdown",
      "metadata": {
        "id": "DIWp30Q-Lhlm"
      },
      "source": [
        "### Step 3: Calculate BODE Risk"
      ]
    },
    {
      "cell_type": "code",
      "execution_count": 107,
      "metadata": {
        "id": "59cVa8jbLhlm"
      },
      "outputs": [],
      "source": [
        "def bode_risk(score):\n",
        "    if score <= 2: return '80% survival'\n",
        "    elif 3 <= score <= 4: return '67% survival'\n",
        "    elif 5 <= score <= 6: return '57% survival'\n",
        "    elif 7 <= score <= 10: return '18% survival'"
      ]
    },
    {
      "cell_type": "code",
      "source": [
        "bode_risk(10)"
      ],
      "metadata": {
        "colab": {
          "base_uri": "https://localhost:8080/",
          "height": 35
        },
        "id": "o3LbdYNgiU3G",
        "outputId": "7250a9bb-b8c4-41b0-d76a-ff4d5949afc1"
      },
      "execution_count": 108,
      "outputs": [
        {
          "output_type": "execute_result",
          "data": {
            "text/plain": [
              "'18% survival'"
            ],
            "application/vnd.google.colaboratory.intrinsic+json": {
              "type": "string"
            }
          },
          "metadata": {},
          "execution_count": 108
        }
      ]
    },
    {
      "cell_type": "code",
      "source": [
        "bode_risk(2)"
      ],
      "metadata": {
        "colab": {
          "base_uri": "https://localhost:8080/",
          "height": 35
        },
        "id": "vmiyMhm8ib1k",
        "outputId": "f462136a-65ec-47fb-bc20-71f50a30f0c1"
      },
      "execution_count": 109,
      "outputs": [
        {
          "output_type": "execute_result",
          "data": {
            "text/plain": [
              "'80% survival'"
            ],
            "application/vnd.google.colaboratory.intrinsic+json": {
              "type": "string"
            }
          },
          "metadata": {},
          "execution_count": 109
        }
      ]
    },
    {
      "cell_type": "code",
      "source": [
        "bode_risk(4)"
      ],
      "metadata": {
        "colab": {
          "base_uri": "https://localhost:8080/",
          "height": 35
        },
        "id": "V9QpDl-bij7H",
        "outputId": "3f37437e-facb-4e90-c72f-01481418c27b"
      },
      "execution_count": 110,
      "outputs": [
        {
          "output_type": "execute_result",
          "data": {
            "text/plain": [
              "'67% survival'"
            ],
            "application/vnd.google.colaboratory.intrinsic+json": {
              "type": "string"
            }
          },
          "metadata": {},
          "execution_count": 110
        }
      ]
    },
    {
      "cell_type": "markdown",
      "metadata": {
        "id": "azJNz3NzLhlm"
      },
      "source": [
        "### Step 4: Load Hospital Data"
      ]
    },
    {
      "cell_type": "code",
      "execution_count": 111,
      "metadata": {
        "id": "lrySWkxbLhln"
      },
      "outputs": [],
      "source": [
        "def load_patient_data(file_path):\n",
        "    patients = []\n",
        "    with open(file_path, mode='r') as file:\n",
        "        reader = csv.DictReader(file)\n",
        "        for row in reader:\n",
        "            patients.append(row)\n",
        "    return patients\n",
        "\n",
        "def load_hospital_data(file_path):\n",
        "    with open(file_path) as f:\n",
        "        return json.load(f)['hospitals']"
      ]
    },
    {
      "cell_type": "markdown",
      "metadata": {
        "id": "0fIa4Yd4Lhln"
      },
      "source": [
        "### Step 5: Main business logic\n",
        "\n",
        "Call BODE Score, BODE Risk functions for each patient.\n",
        "\n",
        "For each hospital, calculate Avg BODE score and Avg BODE risk and count the number of cases for each hospital."
      ]
    },
    {
      "cell_type": "code",
      "execution_count": 112,
      "metadata": {
        "id": "EJAz1IjFLhln"
      },
      "outputs": [],
      "source": [
        "patient_output_file = \"patient_output.csv\"\n",
        "hospital_output_file = \"hospital_output.csv\"\n",
        "\n",
        "###\n",
        "\n",
        "patient_df['BMI'] = patient_df.apply(lambda row: bmi(row['WEIGHT_KG'], row['HEIGHT_M']), axis=1)\n",
        "patient_df['BODE_SCORE'] = patient_df.apply(lambda row: bode_score(row['BMI'], row['fev_pct'], row['dyspnea_description'], row['distance_in_meters']), axis=1)\n",
        "patient_df['BODE_RISK'] = patient_df['BODE_SCORE'].apply(bode_risk)\n",
        "\n",
        "patient_output = patient_df[['NAME', 'BODE_SCORE', 'BODE_RISK', 'hospital']]\n",
        "\n",
        "\n",
        "hospital_stats = patient_df.groupby('hospital').agg(\n",
        "    COPD_COUNT=('NAME', 'count'),\n",
        "    AVG_SCORE=('BODE_SCORE', 'mean'),\n",
        "    AVG_RISK=('BODE_RISK', lambda x: x.mode())\n",
        ").reset_index()\n",
        "\n",
        "\n",
        "hospital_output = hospital_stats.merge(hospitals_df, left_on='hospital', right_on='name')\n",
        "hospital_output['PCT_OF_COPD_CASES_OVER_BEDS'] = (hospital_output['COPD_COUNT'] / hospital_output['beds']) * 100\n",
        "\n",
        "hospital_output = hospital_output[['hospital', 'COPD_COUNT', 'PCT_OF_COPD_CASES_OVER_BEDS', 'AVG_SCORE', 'AVG_RISK']]\n",
        "hospital_output.columns = ['HOSPITAL_NAME', 'COPD_COUNT', 'PCT_OF_COPD_CASES_OVER_BEDS', 'AVG_SCORE', 'AVG_RISK']\n",
        "\n",
        "###\n",
        "\n",
        "patient_results = patient_output\n",
        "hospital_output_list = hospital_output\n",
        "\n",
        "patient_output.to_csv(patient_output_file, index=False)\n",
        "hospital_output.to_csv(hospital_output_file, index=False)"
      ]
    }
  ],
  "metadata": {
    "colab": {
      "provenance": [],
      "include_colab_link": true
    },
    "kernelspec": {
      "display_name": "Python 3 (ipykernel)",
      "language": "python",
      "name": "python3"
    },
    "language_info": {
      "codemirror_mode": {
        "name": "ipython",
        "version": 3
      },
      "file_extension": ".py",
      "mimetype": "text/x-python",
      "name": "python",
      "nbconvert_exporter": "python",
      "pygments_lexer": "ipython3",
      "version": "3.11.7"
    }
  },
  "nbformat": 4,
  "nbformat_minor": 0
}