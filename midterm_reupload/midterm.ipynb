{
  "cells": [
    {
      "cell_type": "markdown",
      "metadata": {
        "id": "ICIQuQxFM6x8"
      },
      "source": [
        "### Mid-term for HDS5210\n",
        "\n",
        "Your supervisor is concerned about 4-year survival risks for COPD. She has asked for you to do some analysis using a new metric, BODE. BODE is an improvement on a previous metric and promises to provide insight on survival risks.\n",
        "\n",
        "BODE is defined here. https://www.mdcalc.com/calc/3916/bode-index-copd-survival#evidence\n",
        "\n",
        "Your assignment is to create a BODE calculation, use it to calculate BODE scores and BODE survival rates for a group of patients. Then we want to evaluate the average BODE scores and BODE survival rates for each area hospital.\n",
        "\n",
        "Your patient input file will have the following columns:\n",
        "NAME,SSN,LANGUAGE,JOB,HEIGHT_M,WEIGHT_KG,fev_pct,dyspnea_description,distance_in_meters,hospital\n",
        "\n",
        "BODE calculations require a BMI value, so you will have to create a function for it.\n",
        "\n",
        "Your output should be in the form of two CSV files, patient_output.csv and hospital_output.csv.\n",
        "\n",
        "Patient_output will have the following columns:\n",
        "NAME,BODE_SCORE,BODE_RISK,HOSPITAL\n",
        "\n",
        "Hospital output will have the following columns:\n",
        "HOSPITAL_NAME, COPD_COUNT, PCT_OF_COPD_CASES_OVER_BEDS, AVG_SCORE, AVG_RISK\n",
        "\n",
        "Each function you create should have documentation and a suitable number of test cases. If the input data could be wrong, make sure to raise a Value Error.\n",
        "\n",
        "For this assignment, use the doctest, json, and csv libraries. Pandas is not allowed for this assignment."
      ]
    },
    {
      "cell_type": "code",
      "execution_count": 3,
      "metadata": {
        "id": "V6FiYEQ6M6x9"
      },
      "outputs": [],
      "source": [
        "import doctest\n",
        "import json\n",
        "import csv"
      ]
    },
    {
      "cell_type": "markdown",
      "metadata": {
        "id": "iP6u67jSM6x-"
      },
      "source": [
        "### Step 1: Calculate BMI"
      ]
    },
    {
      "cell_type": "code",
      "execution_count": 16,
      "metadata": {
        "id": "4JT3YBWyM6x-"
      },
      "outputs": [],
      "source": [
        "def bmi(weight_kg, height_m):\n",
        "    \"\"\"\n",
        "    Calculate the BMI given weight in kilograms and height in meters.\n",
        "\n",
        "    >>> bmi(70, 1.75)\n",
        "    22.86\n",
        "\n",
        "    >>> bmi(100, 0)\n",
        "    Traceback (most recent call last):\n",
        "        ...\n",
        "    ValueError: Height must be greater than 0\n",
        "    \"\"\"\n",
        "    if height_m <= 0:\n",
        "        raise ValueError(\"Height must be greater than 0\")\n",
        "    bmi= round(weight_kg / (height_m ** 2), 2)\n",
        "\n",
        "    return bmi\n"
      ]
    },
    {
      "cell_type": "code",
      "source": [
        "import doctest\n",
        "doctest.run_docstring_examples(bmi, globals(),verbose=True)"
      ],
      "metadata": {
        "id": "rd3blKhNOlSa",
        "outputId": "3c0ccd8f-7056-45ed-fcb3-2f61f60361eb",
        "colab": {
          "base_uri": "https://localhost:8080/"
        }
      },
      "execution_count": 17,
      "outputs": [
        {
          "output_type": "stream",
          "name": "stdout",
          "text": [
            "Finding tests in NoName\n",
            "Trying:\n",
            "    bmi(70, 1.75)\n",
            "Expecting:\n",
            "    22.86\n",
            "ok\n",
            "Trying:\n",
            "    bmi(100, 0)\n",
            "Expecting:\n",
            "    Traceback (most recent call last):\n",
            "        ...\n",
            "    ValueError: Height must be greater than 0\n",
            "ok\n"
          ]
        }
      ]
    },
    {
      "cell_type": "code",
      "source": [
        "bmi(82,1.65)#my personal bmi"
      ],
      "metadata": {
        "id": "hOkY6eO_Pbj7",
        "outputId": "64af65f3-de80-40b0-f5cd-5425ce15dac1",
        "colab": {
          "base_uri": "https://localhost:8080/"
        }
      },
      "execution_count": 18,
      "outputs": [
        {
          "output_type": "execute_result",
          "data": {
            "text/plain": [
              "30.12"
            ]
          },
          "metadata": {},
          "execution_count": 18
        }
      ]
    },
    {
      "cell_type": "markdown",
      "metadata": {
        "id": "g83Qn6CFM6x-"
      },
      "source": [
        "### Step 2: Calculate BODE Score"
      ]
    },
    {
      "cell_type": "code",
      "execution_count": 24,
      "metadata": {
        "id": "6bXjy7l5M6x-"
      },
      "outputs": [],
      "source": [
        "def bode_score(bmi, fev_pct, dyspnea_description, distance_in_meters):\n",
        "  \"\"\"\n",
        "  Calculate the BODE score based on FEV percentage, distance walked, dyspnea level, and BMI.\n",
        "  BODE score is calculated based on:\n",
        "   FEV1 percentage (0 to 3 points)\n",
        "   Distance walked (0 to 3 points)\n",
        "   Dyspnea level (0 to 3 points)\n",
        "   BMI (0 or 1 point)\n",
        "  >>> bode_score(20,65,'SLOWER THAN PEERS',350)\n",
        "  2\n",
        "  >>> bode_score(25,80,'BREATHLESS WHEN DRESSING',150)\n",
        "  5\n",
        "  \"\"\"\n",
        "  if bmi <= 0:\n",
        "        raise ValueError(\"bmi must be greater than 0\")\n",
        "  if bmi > 21:\n",
        "    bmi_score=0\n",
        "  else:\n",
        "    bmi_score = 1\n",
        "\n",
        "  if fev_pct >= 65:\n",
        "        fev_score = 0\n",
        "  elif fev_pct >= 50:\n",
        "        fev_score = 1\n",
        "  elif fev_pct >= 36:\n",
        "        fev_score = 2\n",
        "  else:\n",
        "        fev_score = 3\n",
        "  if dyspnea_description in [\"STOPS WHEN WALKING AT PACE\", \"SLOWER THAN PEERS\"]:\n",
        "    dyspnea_score = 1\n",
        "  elif dyspnea_description in [\"STOPS AFTER 100 YARDS\", \"STOPS AFTER A FEW MINUTES\"]:\n",
        "    dyspnea_score = 2\n",
        "  elif dyspnea_description in [\"BREATHLESS WHEN DRESSING\", \"UNABLE TO LEAVE HOME\"]:\n",
        "    dyspnea_score = 3\n",
        "  else:\n",
        "    dyspnea_score = 0\n",
        "\n",
        "  if distance_in_meters >= 350:\n",
        "        distance_score = 0\n",
        "  elif distance_in_meters >= 250:\n",
        "        distance_score = 1\n",
        "  elif distance_in_meters >= 150:\n",
        "        distance_score = 2\n",
        "  else:\n",
        "        distance_score = 3\n",
        "\n",
        "  bode_score = bmi_score + fev_score + dyspnea_score + distance_score\n",
        "\n",
        "  return bode_score\n"
      ]
    },
    {
      "cell_type": "code",
      "source": [
        "import doctest\n",
        "doctest.run_docstring_examples(bode_score,globals(),verbose=True)"
      ],
      "metadata": {
        "id": "-v37LuzHRY74",
        "outputId": "37ee9485-f24b-4ef4-e1c1-31814700d63d",
        "colab": {
          "base_uri": "https://localhost:8080/"
        }
      },
      "execution_count": 25,
      "outputs": [
        {
          "output_type": "stream",
          "name": "stdout",
          "text": [
            "Finding tests in NoName\n",
            "Trying:\n",
            "    bode_score(20,65,'SLOWER THAN PEERS',350)\n",
            "Expecting:\n",
            "    2\n",
            "ok\n",
            "Trying:\n",
            "    bode_score(25,80,'BREATHLESS WHEN DRESSING',150)\n",
            "Expecting:\n",
            "    5\n",
            "ok\n"
          ]
        }
      ]
    },
    {
      "cell_type": "code",
      "source": [
        "bode_score(0,70,\"STOPS AFTER 100 YARDS\",350)"
      ],
      "metadata": {
        "id": "dYOK30oTUxg9",
        "outputId": "4b08ddd6-a8a9-4f39-9564-06f7e8fa37d7",
        "colab": {
          "base_uri": "https://localhost:8080/",
          "height": 280
        }
      },
      "execution_count": 26,
      "outputs": [
        {
          "output_type": "error",
          "ename": "ValueError",
          "evalue": "bmi must be greater than 0",
          "traceback": [
            "\u001b[0;31m---------------------------------------------------------------------------\u001b[0m",
            "\u001b[0;31mValueError\u001b[0m                                Traceback (most recent call last)",
            "\u001b[0;32m<ipython-input-26-22b62eacbc85>\u001b[0m in \u001b[0;36m<cell line: 1>\u001b[0;34m()\u001b[0m\n\u001b[0;32m----> 1\u001b[0;31m \u001b[0mbode_score\u001b[0m\u001b[0;34m(\u001b[0m\u001b[0;36m0\u001b[0m\u001b[0;34m,\u001b[0m\u001b[0;36m70\u001b[0m\u001b[0;34m,\u001b[0m\u001b[0;34m\"STOPS AFTER 100 YARDS\"\u001b[0m\u001b[0;34m,\u001b[0m\u001b[0;36m350\u001b[0m\u001b[0;34m)\u001b[0m\u001b[0;34m\u001b[0m\u001b[0;34m\u001b[0m\u001b[0m\n\u001b[0m",
            "\u001b[0;32m<ipython-input-24-8ef1f7022dd5>\u001b[0m in \u001b[0;36mbode_score\u001b[0;34m(bmi, fev_pct, dyspnea_description, distance_in_meters)\u001b[0m\n\u001b[1;32m     13\u001b[0m   \"\"\"\n\u001b[1;32m     14\u001b[0m   \u001b[0;32mif\u001b[0m \u001b[0mbmi\u001b[0m \u001b[0;34m<=\u001b[0m \u001b[0;36m0\u001b[0m\u001b[0;34m:\u001b[0m\u001b[0;34m\u001b[0m\u001b[0;34m\u001b[0m\u001b[0m\n\u001b[0;32m---> 15\u001b[0;31m         \u001b[0;32mraise\u001b[0m \u001b[0mValueError\u001b[0m\u001b[0;34m(\u001b[0m\u001b[0;34m\"bmi must be greater than 0\"\u001b[0m\u001b[0;34m)\u001b[0m\u001b[0;34m\u001b[0m\u001b[0;34m\u001b[0m\u001b[0m\n\u001b[0m\u001b[1;32m     16\u001b[0m   \u001b[0;32mif\u001b[0m \u001b[0mbmi\u001b[0m \u001b[0;34m>\u001b[0m \u001b[0;36m21\u001b[0m\u001b[0;34m:\u001b[0m\u001b[0;34m\u001b[0m\u001b[0;34m\u001b[0m\u001b[0m\n\u001b[1;32m     17\u001b[0m     \u001b[0mbmi_score\u001b[0m\u001b[0;34m=\u001b[0m\u001b[0;36m0\u001b[0m\u001b[0;34m\u001b[0m\u001b[0;34m\u001b[0m\u001b[0m\n",
            "\u001b[0;31mValueError\u001b[0m: bmi must be greater than 0"
          ]
        }
      ]
    },
    {
      "cell_type": "code",
      "source": [
        "bode_score(20,43,\"UNABLE TO LEAVE HOME\",140)"
      ],
      "metadata": {
        "id": "3EqDyv5QVBPZ",
        "outputId": "d74c14c6-34a0-4b2e-c3ca-659f9476cfda",
        "colab": {
          "base_uri": "https://localhost:8080/"
        }
      },
      "execution_count": 27,
      "outputs": [
        {
          "output_type": "execute_result",
          "data": {
            "text/plain": [
              "9"
            ]
          },
          "metadata": {},
          "execution_count": 27
        }
      ]
    },
    {
      "cell_type": "markdown",
      "metadata": {
        "id": "csC5MLWTM6x_"
      },
      "source": [
        "### Step 3: Calculate BODE Risk"
      ]
    },
    {
      "cell_type": "code",
      "execution_count": 35,
      "metadata": {
        "id": "Bm9s0zBCM6x_"
      },
      "outputs": [],
      "source": [
        "def bode_risk(bode_score):\n",
        "    \"\"\"\n",
        "    Calculate the 4-year survival risk based on the BODE score.\n",
        "\n",
        "    >>> bode_risk(2)\n",
        "    80\n",
        "    >>> bode_risk(4)\n",
        "    67\n",
        "    >>> bode_risk(7)\n",
        "    18\n",
        "    \"\"\"\n",
        "    if bode_score <0 or bode_score >10:\n",
        "      raise ValueError (\"INVALID BODE SCORE\")\n",
        "    if bode_score <= 2:\n",
        "        return 80  # 80% survival rate for BODE score\n",
        "    elif bode_score <= 4:\n",
        "        return 67  # 67% survival rate for BODE score\n",
        "    elif bode_score <= 6:\n",
        "        return 57  # 57% survival rate for BODE score\n",
        "    else:\n",
        "        return 18  # 18% survival rate for BODE score\n",
        "\n",
        "    return bode_risk"
      ]
    },
    {
      "cell_type": "code",
      "source": [
        "import doctest\n",
        "doctest.run_docstring_examples(bode_risk,globals(),verbose=True)"
      ],
      "metadata": {
        "id": "0jDUfW34WXf-",
        "outputId": "a991e47d-341a-42ce-9002-fd7f188c21cd",
        "colab": {
          "base_uri": "https://localhost:8080/"
        }
      },
      "execution_count": 36,
      "outputs": [
        {
          "output_type": "stream",
          "name": "stdout",
          "text": [
            "Finding tests in NoName\n",
            "Trying:\n",
            "    bode_risk(2)\n",
            "Expecting:\n",
            "    80\n",
            "ok\n",
            "Trying:\n",
            "    bode_risk(4)\n",
            "Expecting:\n",
            "    67\n",
            "ok\n",
            "Trying:\n",
            "    bode_risk(7)\n",
            "Expecting:\n",
            "    18\n",
            "ok\n"
          ]
        }
      ]
    },
    {
      "cell_type": "code",
      "source": [
        "bode_risk(-3)"
      ],
      "metadata": {
        "id": "kdWndpbNW_Jv",
        "outputId": "01514f48-7569-4c42-f45a-c6a1542ebf15",
        "colab": {
          "base_uri": "https://localhost:8080/",
          "height": 263
        }
      },
      "execution_count": 37,
      "outputs": [
        {
          "output_type": "error",
          "ename": "ValueError",
          "evalue": "INVALID BODE SCORE",
          "traceback": [
            "\u001b[0;31m---------------------------------------------------------------------------\u001b[0m",
            "\u001b[0;31mValueError\u001b[0m                                Traceback (most recent call last)",
            "\u001b[0;32m<ipython-input-37-dbcf5d7918c9>\u001b[0m in \u001b[0;36m<cell line: 1>\u001b[0;34m()\u001b[0m\n\u001b[0;32m----> 1\u001b[0;31m \u001b[0mbode_risk\u001b[0m\u001b[0;34m(\u001b[0m\u001b[0;34m-\u001b[0m\u001b[0;36m3\u001b[0m\u001b[0;34m)\u001b[0m\u001b[0;34m\u001b[0m\u001b[0;34m\u001b[0m\u001b[0m\n\u001b[0m",
            "\u001b[0;32m<ipython-input-35-9e5f823438fc>\u001b[0m in \u001b[0;36mbode_risk\u001b[0;34m(bode_score)\u001b[0m\n\u001b[1;32m     11\u001b[0m     \"\"\"\n\u001b[1;32m     12\u001b[0m     \u001b[0;32mif\u001b[0m \u001b[0mbode_score\u001b[0m \u001b[0;34m<\u001b[0m\u001b[0;36m0\u001b[0m \u001b[0;32mor\u001b[0m \u001b[0mbode_score\u001b[0m \u001b[0;34m>\u001b[0m\u001b[0;36m10\u001b[0m\u001b[0;34m:\u001b[0m\u001b[0;34m\u001b[0m\u001b[0;34m\u001b[0m\u001b[0m\n\u001b[0;32m---> 13\u001b[0;31m       \u001b[0;32mraise\u001b[0m \u001b[0mValueError\u001b[0m \u001b[0;34m(\u001b[0m\u001b[0;34m\"INVALID BODE SCORE\"\u001b[0m\u001b[0;34m)\u001b[0m\u001b[0;34m\u001b[0m\u001b[0;34m\u001b[0m\u001b[0m\n\u001b[0m\u001b[1;32m     14\u001b[0m     \u001b[0;32mif\u001b[0m \u001b[0mbode_score\u001b[0m \u001b[0;34m<=\u001b[0m \u001b[0;36m2\u001b[0m\u001b[0;34m:\u001b[0m\u001b[0;34m\u001b[0m\u001b[0;34m\u001b[0m\u001b[0m\n\u001b[1;32m     15\u001b[0m         \u001b[0;32mreturn\u001b[0m \u001b[0;36m80\u001b[0m  \u001b[0;31m# 80% survival rate for BODE score\u001b[0m\u001b[0;34m\u001b[0m\u001b[0;34m\u001b[0m\u001b[0m\n",
            "\u001b[0;31mValueError\u001b[0m: INVALID BODE SCORE"
          ]
        }
      ]
    },
    {
      "cell_type": "code",
      "source": [
        "bode_risk(200)"
      ],
      "metadata": {
        "id": "9vw0jJq7Wc87",
        "outputId": "dae59e43-35fb-4279-ce28-e5689416d460",
        "colab": {
          "base_uri": "https://localhost:8080/",
          "height": 263
        }
      },
      "execution_count": 38,
      "outputs": [
        {
          "output_type": "error",
          "ename": "ValueError",
          "evalue": "INVALID BODE SCORE",
          "traceback": [
            "\u001b[0;31m---------------------------------------------------------------------------\u001b[0m",
            "\u001b[0;31mValueError\u001b[0m                                Traceback (most recent call last)",
            "\u001b[0;32m<ipython-input-38-191c5ed21526>\u001b[0m in \u001b[0;36m<cell line: 1>\u001b[0;34m()\u001b[0m\n\u001b[0;32m----> 1\u001b[0;31m \u001b[0mbode_risk\u001b[0m\u001b[0;34m(\u001b[0m\u001b[0;36m200\u001b[0m\u001b[0;34m)\u001b[0m\u001b[0;34m\u001b[0m\u001b[0;34m\u001b[0m\u001b[0m\n\u001b[0m",
            "\u001b[0;32m<ipython-input-35-9e5f823438fc>\u001b[0m in \u001b[0;36mbode_risk\u001b[0;34m(bode_score)\u001b[0m\n\u001b[1;32m     11\u001b[0m     \"\"\"\n\u001b[1;32m     12\u001b[0m     \u001b[0;32mif\u001b[0m \u001b[0mbode_score\u001b[0m \u001b[0;34m<\u001b[0m\u001b[0;36m0\u001b[0m \u001b[0;32mor\u001b[0m \u001b[0mbode_score\u001b[0m \u001b[0;34m>\u001b[0m\u001b[0;36m10\u001b[0m\u001b[0;34m:\u001b[0m\u001b[0;34m\u001b[0m\u001b[0;34m\u001b[0m\u001b[0m\n\u001b[0;32m---> 13\u001b[0;31m       \u001b[0;32mraise\u001b[0m \u001b[0mValueError\u001b[0m \u001b[0;34m(\u001b[0m\u001b[0;34m\"INVALID BODE SCORE\"\u001b[0m\u001b[0;34m)\u001b[0m\u001b[0;34m\u001b[0m\u001b[0;34m\u001b[0m\u001b[0m\n\u001b[0m\u001b[1;32m     14\u001b[0m     \u001b[0;32mif\u001b[0m \u001b[0mbode_score\u001b[0m \u001b[0;34m<=\u001b[0m \u001b[0;36m2\u001b[0m\u001b[0;34m:\u001b[0m\u001b[0;34m\u001b[0m\u001b[0;34m\u001b[0m\u001b[0m\n\u001b[1;32m     15\u001b[0m         \u001b[0;32mreturn\u001b[0m \u001b[0;36m80\u001b[0m  \u001b[0;31m# 80% survival rate for BODE score\u001b[0m\u001b[0;34m\u001b[0m\u001b[0;34m\u001b[0m\u001b[0m\n",
            "\u001b[0;31mValueError\u001b[0m: INVALID BODE SCORE"
          ]
        }
      ]
    },
    {
      "cell_type": "code",
      "source": [
        "bode_risk(5)"
      ],
      "metadata": {
        "id": "SKFe36mMXIR-",
        "outputId": "d37d2f29-e356-4570-f641-1b8a0b7425cb",
        "colab": {
          "base_uri": "https://localhost:8080/"
        }
      },
      "execution_count": 39,
      "outputs": [
        {
          "output_type": "execute_result",
          "data": {
            "text/plain": [
              "57"
            ]
          },
          "metadata": {},
          "execution_count": 39
        }
      ]
    },
    {
      "cell_type": "markdown",
      "metadata": {
        "id": "w7IIQWNOM6x_"
      },
      "source": [
        "### Step 4: Load Hospital Data"
      ]
    },
    {
      "cell_type": "code",
      "execution_count": 49,
      "metadata": {
        "id": "4NDgKokbM6yA"
      },
      "outputs": [],
      "source": [
        "def load_hospital_data(hospital_json_file):\n",
        "    \"\"\"\n",
        "    Load hospital data from a JSON file.\n",
        "\n",
        "    >>> load_hospital_data(\"/content/hospitals.json\")\n",
        "    {'BJC': 2000, 'BJC WEST COUNTY': 1000, 'MISSOURI BAPTIST': 800,\n",
        "     'SAINT LOUIS UNIVERSITY': 1000, 'ST.MARY\\'S': 500,\n",
        "     'ST.LUKE\\'S': 800}\n",
        "    \"\"\"\n",
        "\n",
        "    hospital_beds = {}\n",
        "\n",
        "    with open(hospital_json_file, 'r') as f:\n",
        "        hospital_data = json.load(f)\n",
        "\n",
        "    for system in hospital_data:\n",
        "        for hospital in system['hospitals']:\n",
        "            hospital_beds[hospital['name']] = hospital['beds']\n",
        "\n",
        "    return hospital_beds"
      ]
    },
    {
      "cell_type": "markdown",
      "metadata": {
        "id": "AyyaA3X7M6yA"
      },
      "source": [
        "### Step 5: Main business logic\n",
        "\n",
        "Call BODE Score, BODE Risk functions for each patient.\n",
        "\n",
        "For each hospital, calculate Avg BODE score and Avg BODE risk and count the number of cases for each hospital."
      ]
    },
    {
      "cell_type": "code",
      "execution_count": 50,
      "metadata": {
        "id": "gFgKfRQmM6yA"
      },
      "outputs": [],
      "source": [
        "def main(patient_csv_file, hospital_json_file, patient_output_file, hospital_output_file):\n",
        "    hospitals = load_hospital_data(hospital_json_file)\n",
        "    hospital_stats = {hospital: {'bode_scores': [], 'bode_risks': [], 'copd_count': 0} for hospital in hospitals}\n",
        "    patient_results = []\n",
        "\n",
        "    try:\n",
        "        with open(patient_csv_file, newline='') as csvfile:\n",
        "            reader = csv.DictReader(csvfile)\n",
        "            for row in reader:\n",
        "                try:\n",
        "                    name = row['NAME']\n",
        "                    weight = float(row['WEIGHT_KG'])\n",
        "                    height = float(row['HEIGHT_M'])\n",
        "                    fev_pct = float(row['fev_pct'])\n",
        "                    dyspnea = row['dyspnea_description']\n",
        "                    distance = float(row['distance_in_meters'])\n",
        "                    hospital = row['hospital']\n",
        "\n",
        "                    bmi_value = bmi(weight, height)\n",
        "                    bode_score_value = bode_score(bmi_value, fev_pct, dyspnea, distance)\n",
        "                    bode_risk_value = bode_risk(bode_score_value)\n",
        "\n",
        "                    patient_results.append([name, bode_score_value, bode_risk_value, hospital])\n",
        "                    hospital_stats[hospital]['bode_scores'].append(bode_score_value)\n",
        "                    hospital_stats[hospital]['bode_risks'].append(bode_risk_value)\n",
        "                    hospital_stats[hospital]['copd_count'] += 1\n",
        "\n",
        "                except ValueError as e:\n",
        "                    print(f\"Error processing patient {name}: {e}\")\n",
        "\n",
        "    except FileNotFoundError:\n",
        "        raise ValueError(\"Patient file not found.\")\n",
        "    except KeyError as e:\n",
        "        raise ValueError(f\"Missing column in patient data: {e}\")\n",
        "\n",
        "    hospital_output_list = [['HOSPITAL_NAME', 'COPD_COUNT', 'PCT_OF_COPD_CASES_OVER_BEDS', 'AVG_SCORE', 'AVG_RISK']]\n",
        "    for hospital, stats in hospital_stats.items():\n",
        "        copd_count = stats['copd_count']\n",
        "        beds = hospitals[hospital]\n",
        "        avg_bode_score = sum(stats['bode_scores']) / copd_count if copd_count > 0 else 0\n",
        "        avg_bode_risk = sum(stats['bode_risks']) / copd_count if copd_count > 0 else 0\n",
        "        pct_copd_cases_over_beds = (copd_count / beds) * 100 if beds > 0 else 0\n",
        "        hospital_output_list.append([hospital, copd_count, pct_copd_cases_over_beds, round(avg_bode_score, 2), round(avg_bode_risk, 2)])\n",
        "\n",
        "    with open(patient_output_file, 'w', newline='') as csvfile:\n",
        "        writer = csv.writer(csvfile)\n",
        "        writer.writerow(['NAME', 'BODE_SCORE', 'BODE_RISK', 'HOSPITAL'])\n",
        "        writer.writerows(patient_results)\n",
        "\n",
        "    with open(hospital_output_file, 'w', newline='') as csvfile:\n",
        "        writer = csv.writer(csvfile)\n",
        "        writer.writerows(hospital_output_list)\n",
        "\n",
        "main('/content/patient.csv', '/content/hospitals .json', '/content/patient_output.csv', '/content/hospital_output.csv')"
      ]
    }
  ],
  "metadata": {
    "language_info": {
      "name": "python"
    },
    "colab": {
      "provenance": []
    },
    "kernelspec": {
      "name": "python3",
      "display_name": "Python 3"
    }
  },
  "nbformat": 4,
  "nbformat_minor": 0
}