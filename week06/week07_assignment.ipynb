{
  "cells": [
    {
      "cell_type": "markdown",
      "metadata": {
        "id": "tATzGHezl623"
      },
      "source": [
        "# Week 7 Assignment\n",
        "\n",
        "We've been working with different types of data structures in Python (dictionary, list, etc), how those are represented in JSON documents, and how to write code to access specific data elements. In this week's assignment, you will need to create your own JSON document to store information about yourself and the grades you've received from week 1 to week 4 and the week 6 quiz.  That is, everything you should have received a grade for.  Then you'll need to show me you know how to navigate the JSON in that file.\n",
        "\n",
        "Different from what we've done in the past, you do not have to write any functions or include any docstrings.  Just create some JSON and write some code.\n",
        "\n",
        "---"
      ]
    },
    {
      "cell_type": "markdown",
      "metadata": {
        "id": "F0lGJPoIl624"
      },
      "source": [
        "## 7.1 Create a JSON file\n",
        "\n",
        "Create a JSON file that contains your name, email, year you were born, all of the grades you've received back so far, and a comment about what you thought was most challenging on each of those assignments.  This can be any structure you choose, but make sure it uses a dictionary and a list, and has at least two levels of hierarchy.  That is, it can't just be one big long list."
      ]
    },
    {
      "cell_type": "markdown",
      "metadata": {
        "id": "9u3Ddj5Kl625"
      },
      "source": [
        "First, explain how your data structure is going to look..."
      ]
    },
    {
      "cell_type": "markdown",
      "metadata": {
        "id": "zmX_vstXl625"
      },
      "source": [
        "* Put your explanation here in text..."
      ]
    },
    {
      "cell_type": "markdown",
      "metadata": {
        "id": "SawEA6hHl625"
      },
      "source": [
        "Then put the actual JSON you've created inside the multiline string below..."
      ]
    },
    {
      "cell_type": "code",
      "execution_count": 15,
      "metadata": {
        "id": "NBm9GGJfl625"
      },
      "outputs": [],
      "source": [
        "hds5210 = \"\"\"\n",
        "\n",
        "{\n",
        "    \"name\": \"dhanvantari vaibhav indukuri\",\n",
        "    \"email\": \"dhanvantari.indukuri@slu.edu\",\n",
        "    \"year of birth\": \"1996\",\n",
        "    \"batchelors\": \"bachelor of ayurvedic medicine and surgery\",\n",
        "    \"grades\": [\n",
        "        {\n",
        "            \"assignment\": \"week 1 assignment\",\n",
        "            \"grade\": 10,\n",
        "            \"comment\": \"I have created my github account in this week it was easy to create\"\n",
        "        },\n",
        "        {\n",
        "            \"assignment\": \"week 2 assignment\",\n",
        "            \"grade\": 9,\n",
        "            \"comment\": \"It was a bit tricky it took me more time to understand the question and executing it\"\n",
        "        },\n",
        "        {\n",
        "            \"assignment\": \"week 3 assignment\",\n",
        "            \"grade\": 8,\n",
        "            \"comment\": \"Even this took me more time to complete\"\n",
        "        },\n",
        "        {\n",
        "            \"assignment\": \"week 4 assignment\",\n",
        "            \"grade\": 12,\n",
        "            \"comment\": \"This is a simple data structure like lists and dictionaries it was easy to execute\"\n",
        "        }\n",
        "    ]\n",
        "}\n",
        "\"\"\""
      ]
    },
    {
      "cell_type": "markdown",
      "metadata": {
        "id": "0oSi4IY_l626"
      },
      "source": [
        "## 7.2 Do something with your JSON\n",
        "\n",
        "Now use Python code to do something with the Json above.  Turn it into English text, but make sure that you use at least one loop to access some dict or list content of your JSON.  Below, I've provided some basic code to read in the string above as JSON and return a Python object.  Your job is to work with that data structure and print out the important information like your name, email, and how you did on each assignment."
      ]
    },
    {
      "cell_type": "code",
      "execution_count": 16,
      "metadata": {
        "id": "-zkMjLNll626",
        "outputId": "85a8969b-9081-4e63-d11b-20feb060c9d3",
        "colab": {
          "base_uri": "https://localhost:8080/"
        }
      },
      "outputs": [
        {
          "output_type": "stream",
          "name": "stdout",
          "text": [
            "My name is dhanvantari vaibhav indukuri. My email address is dhanvantari.indukuri@slu.edu and I was born in 1996. I have completed my bachelor of ayurvedic medicine and surgery. In the week 1 assignment, I received a grade of 10. I have created my github account in this week it was easy to create In the week 2 assignment, I received a grade of 9. It was a bit tricky it took me more time to understand the question and executing it In the week 3 assignment, I received a grade of 8. Even this took me more time to complete In the week 4 assignment, I received a grade of 12. This is a simple data structure like lists and dictionaries it was easy to execute \n"
          ]
        }
      ],
      "source": [
        "import json\n",
        "data = json.loads(hds5210)\n",
        "output = f\"My name is {data['name']}. My email address is {data['email']} and I was born in {data['year of birth']}. \" \\\n",
        "         f\"I have completed my {data['batchelors']}. \"\n",
        "\n",
        "for grade in data['grades']:\n",
        "    assignment = grade['assignment']\n",
        "    score = grade['grade']\n",
        "    comment = grade['comment']\n",
        "    output += f\"In the {assignment}, I received a grade of {score}. {comment} \"\n",
        "\n",
        "print(output)\n",
        "\n"
      ]
    },
    {
      "cell_type": "code",
      "source": [],
      "metadata": {
        "id": "6ygVHJvv96Dh"
      },
      "execution_count": null,
      "outputs": []
    },
    {
      "cell_type": "markdown",
      "metadata": {
        "id": "br8fTSHvl626"
      },
      "source": [
        "## 7.3 Reflect\n",
        "\n",
        "Write a paragraph on any reflections you have. Was this hard? Easy?  What parts were most challenging or easiest? What did you like or dislike about the assignment?  Share whatever important thoughts you have abou this assignment."
      ]
    },
    {
      "cell_type": "markdown",
      "metadata": {
        "id": "8f3zM-o9l626"
      },
      "source": [
        "* Put your response here"
      ]
    },
    {
      "cell_type": "markdown",
      "metadata": {
        "id": "hZZW87Hol627"
      },
      "source": [
        "---\n",
        "\n",
        "# Example\n",
        "\n",
        "Below is an example of something similar, but this uses information my and my friend's kids instead of grades."
      ]
    },
    {
      "cell_type": "code",
      "execution_count": 9,
      "metadata": {
        "id": "9EF2ZmzAl627",
        "outputId": "35db70da-bb9f-4b60-8507-5bc0dad42bce",
        "colab": {
          "base_uri": "https://localhost:8080/"
        }
      },
      "outputs": [
        {
          "output_type": "stream",
          "name": "stdout",
          "text": [
            "Hi, my name is Paul. I've got 3 kids. Their names are Ellie, Ada, Teddy.\n",
            "My friend, Anny has 1 kids. That's fewer than me. Their names are 1\n"
          ]
        }
      ],
      "source": [
        "hds5210 = \"\"\"\n",
        "{\n",
        "    \"me\": {\n",
        "        \"name\": \"Paul\",\n",
        "        \"kids\": [\"Ellie\", \"Ada\", \"Teddy\"]\n",
        "    },\n",
        "    \"friend\": {\n",
        "        \"name\": \"Anny\",\n",
        "        \"kids\": [\"Abby\"]\n",
        "    }\n",
        "}\n",
        "\"\"\"\n",
        "\n",
        "import json\n",
        "\n",
        "info = json.loads(hds5210)\n",
        "\n",
        "me = info[\"me\"][\"name\"]\n",
        "my_kids_count = len(info[\"me\"][\"kids\"])\n",
        "kids_list = \", \".join(info[\"me\"][\"kids\"])\n",
        "friend = info[\"friend\"][\"name\"]\n",
        "friends_kid_count = len(info[\"friend\"][\"kids\"])\n",
        "friend_kids = \", \".join(info[\"friend\"][\"kids\"])\n",
        "compare = \"more\" if friends_kid_count > my_kids_count else \"fewer\"\n",
        "\n",
        "print(f\"Hi, my name is {me}. I've got {my_kids_count} kids. Their names are {kids_list}.\")\n",
        "print(f\"My friend, {friend} has {friends_kid_count} kids. That's {compare} than me. Their names are {friends_kid_count}\")"
      ]
    }
  ],
  "metadata": {
    "kernelspec": {
      "display_name": "Python 3",
      "language": "python",
      "name": "python3"
    },
    "language_info": {
      "codemirror_mode": {
        "name": "ipython",
        "version": 3
      },
      "file_extension": ".py",
      "mimetype": "text/x-python",
      "name": "python",
      "nbconvert_exporter": "python",
      "pygments_lexer": "ipython3",
      "version": "3.9.16"
    },
    "colab": {
      "provenance": []
    }
  },
  "nbformat": 4,
  "nbformat_minor": 0
}