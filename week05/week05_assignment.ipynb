{
  "cells": [
    {
      "cell_type": "markdown",
      "metadata": {
        "nbgrader": {
          "grade": false,
          "grade_id": "intro",
          "locked": true,
          "schema_version": 1,
          "solution": false
        },
        "id": "v9Ar3PFRQSVT"
      },
      "source": [
        "# Week 5 Exercises\n",
        "\n",
        "_McKinney 3.2_\n",
        "\n",
        "**Unlike in previous weeks, in the exercises below, you will need to create a function definition from scratch.  I'll provide specific instructions and examples for how it will be used, but you will have to do the work of definiging the whole function.**\n",
        "\n",
        "---\n",
        "---"
      ]
    },
    {
      "cell_type": "markdown",
      "metadata": {
        "nbgrader": {
          "grade": false,
          "grade_id": "longest",
          "locked": true,
          "schema_version": 1,
          "solution": false
        },
        "id": "OwN7JNoFQSVV"
      },
      "source": [
        "### 5.1 Longest String\n",
        "\n",
        "Write a function called `longest (L)` that takes as its only parameter a list of strings.  Your function needs to find the longest of those strings and return the position number of that longest string.  An example is provided below:\n",
        "\n",
        "The longest word in that list of strings is \"birthday\" in position #1, so `longest(strings)` should return 1.\n",
        "```\n",
        ">>> strings = ['happy', 'birthday', 'to', 'me']\n",
        ">>> longest(strings)\n",
        "1\n",
        "```\n",
        "\n",
        "Be sure to include a docstring.  Include test cases in your docstring if you want to."
      ]
    },
    {
      "cell_type": "code",
      "execution_count": 73,
      "metadata": {
        "nbgrader": {
          "grade": false,
          "grade_id": "longest-answer",
          "locked": false,
          "schema_version": 1,
          "solution": true
        },
        "id": "u4gv8NaUQSVW"
      },
      "outputs": [],
      "source": [
        "### BEGIN SOLUTION\n",
        "\n",
        "def longest(strings):\n",
        "    \"\"\"(list) -> int\n",
        "    This function finds the longest string in the list of input strings\n",
        "    and returns the position number of that longest string.\n",
        "\n",
        "    >>> longest(['happy', 'birthday', 'to', 'me'])\n",
        "    1\n",
        "\n",
        "    >>> longest(['one', 'two', 'three', 'four'])\n",
        "    2\n",
        "    \"\"\"\n",
        "\n",
        "    longest_pos = 0\n",
        "    longest_len = 0\n",
        "\n",
        "    print(\"Position  Item         Longest So Far\")\n",
        "    print(\"--------- ------------ --------------\")\n",
        "    for position, item in enumerate(strings):\n",
        "\n",
        "        if len(item) > longest_len:\n",
        "            longest_pos = position\n",
        "            longest_len = len(item)\n",
        "        print(\"{0:9} {1:12} {2} : {3}\".format(position, item, longest_pos, longest_len))\n",
        "\n",
        "    return longest_pos\n",
        "\n",
        "### END SOLUTION"
      ]
    },
    {
      "cell_type": "code",
      "execution_count": 74,
      "metadata": {
        "id": "ygDsLuGrQSVW"
      },
      "outputs": [],
      "source": [
        "def longest(my_list):\n",
        "    \"\"\"(list)->int\n",
        "    Find the longest item in a list of strings and return the index for that string.\n",
        "    If there are multiple strings with the same length, return the index of the first of those longest strings.\n",
        "\n",
        "    >>> longest(['happy', 'birthday', 'to', 'me'])\n",
        "    1\n",
        "\n",
        "    >>> longest(['abc','def','ghi'])\n",
        "    0\n",
        "    \"\"\"\n",
        "\n",
        "    if type(my_list) != list:\n",
        "        raise TypeError(\"That isn't a list!\")\n",
        "\n",
        "    if len(my_list) == 0:\n",
        "        raise ValueError(\"There were no items in that list!\")\n",
        "\n",
        "    max_length = -1\n",
        "    max_index = None\n",
        "\n",
        "    for num, item in enumerate(my_list):\n",
        "        try:\n",
        "            if len(item) > max_length:\n",
        "                max_length = len(item)\n",
        "                max_index = num\n",
        "        except:\n",
        "            pass\n",
        "\n",
        "    return max_index\n",
        ""
      ]
    },
    {
      "cell_type": "code",
      "execution_count": 75,
      "metadata": {
        "colab": {
          "base_uri": "https://localhost:8080/"
        },
        "id": "AXFiiSYyQSVX",
        "outputId": "a8ae309e-aefe-4cfe-ca73-974579923b9a"
      },
      "outputs": [
        {
          "output_type": "execute_result",
          "data": {
            "text/plain": [
              "1"
            ]
          },
          "metadata": {},
          "execution_count": 75
        }
      ],
      "source": [
        "longest(['happy', 'birthday', 2, 'me'])"
      ]
    },
    {
      "cell_type": "code",
      "execution_count": 76,
      "metadata": {
        "colab": {
          "base_uri": "https://localhost:8080/"
        },
        "id": "mtzKvfUTQSVX",
        "outputId": "605de4b4-a652-46f2-f563-62f8f6cf4b84"
      },
      "outputs": [
        {
          "output_type": "execute_result",
          "data": {
            "text/plain": [
              "1"
            ]
          },
          "metadata": {},
          "execution_count": 76
        }
      ],
      "source": [
        "longest(['happy', 'birthday', 'to', 'me'])"
      ]
    },
    {
      "cell_type": "code",
      "execution_count": 77,
      "metadata": {
        "nbgrader": {
          "grade": true,
          "grade_id": "longest-tests",
          "locked": true,
          "points": 10,
          "schema_version": 1,
          "solution": false
        },
        "id": "WHTEkSU1QSVX"
      },
      "outputs": [],
      "source": [
        "assert longest(\"happy birthday to me\".split(\" \")) == 1\n",
        "assert longest(\"enjoy class\".split(\" \")) == 0\n",
        "assert longest(['when','what','where','how','who']) == 2"
      ]
    },
    {
      "cell_type": "code",
      "execution_count": 78,
      "metadata": {
        "colab": {
          "base_uri": "https://localhost:8080/"
        },
        "id": "MKcQpHl1QSVY",
        "outputId": "d4838523-c76d-4772-d266-e76d3de8ea26"
      },
      "outputs": [
        {
          "output_type": "stream",
          "name": "stdout",
          "text": [
            "Finding tests in NoName\n",
            "Trying:\n",
            "    longest(['happy', 'birthday', 'to', 'me'])\n",
            "Expecting:\n",
            "    1\n",
            "ok\n",
            "Trying:\n",
            "    longest(['abc','def','ghi'])\n",
            "Expecting:\n",
            "    0\n",
            "ok\n"
          ]
        }
      ],
      "source": [
        "import doctest\n",
        "doctest.run_docstring_examples(longest, globals(), verbose=True)"
      ]
    },
    {
      "cell_type": "markdown",
      "metadata": {
        "id": "-k-TCj_eQSVY"
      },
      "source": [
        "### 5.2 Celsius to Farenheit\n",
        "\n",
        "Write a function called f_to_c() that converts a given temperature in degrees Farenheit to degrees Celsius.  If you don't recall that conversion, it is:\n",
        "\n",
        "$ temp_c = \\frac{5}{9} \\times (temp_f - 32) $\n",
        "\n",
        "Make sure that you code is well documented using the DocString examples, and that your code includes tests for 212f, 32f, and 98.6f."
      ]
    },
    {
      "cell_type": "code",
      "execution_count": 79,
      "metadata": {
        "id": "HTe3jFM3QSVY"
      },
      "outputs": [],
      "source": [
        "### BEGIN SOLUTION\n",
        "\n",
        "def f_to_c(tempf):\n",
        "    \"\"\"\n",
        "    Convert a given temperature in Fahrenheit to Celsius.\n",
        "\n",
        "    The formula is: tempc = (5/9) * (tempf - 32)\n",
        "\n",
        "    Args:\n",
        "    tempf (float): Temperature in Fahrenheit.\n",
        "\n",
        "    Returns:\n",
        "    float: Temperature in Celsius.\n",
        "\n",
        "    Examples:\n",
        "    >>> f_to_c(212)\n",
        "    100.0\n",
        "\n",
        "    >>> f_to_c(32)\n",
        "    0.0\n",
        "\n",
        "    >>> f_to_c(98.6)\n",
        "    37.0\n",
        "    \"\"\"\n",
        "    # Conversion formula\n",
        "    tempc = (5 / 9) * (tempf - 32)\n",
        "    return round(tempc, 1)\n",
        "\n",
        "### END SOLUTION"
      ]
    },
    {
      "cell_type": "code",
      "execution_count": 80,
      "metadata": {
        "id": "k8rPS7NWQSVY"
      },
      "outputs": [],
      "source": [
        "assert f_to_c(212) == 100.0\n",
        "assert f_to_c(32) == 0.0\n",
        "assert f_to_c(98.6) == 37.0"
      ]
    },
    {
      "cell_type": "code",
      "execution_count": 81,
      "metadata": {
        "colab": {
          "base_uri": "https://localhost:8080/"
        },
        "id": "4hWxYp1-QSVY",
        "outputId": "f3ad834c-eb89-4325-8593-1e34b8ace443"
      },
      "outputs": [
        {
          "output_type": "execute_result",
          "data": {
            "text/plain": [
              "100.0"
            ]
          },
          "metadata": {},
          "execution_count": 81
        }
      ],
      "source": [
        "f_to_c(212)"
      ]
    },
    {
      "cell_type": "code",
      "execution_count": 82,
      "metadata": {
        "colab": {
          "base_uri": "https://localhost:8080/"
        },
        "id": "3_-rAYP_QSVZ",
        "outputId": "9abfb119-efa4-4a6b-f32f-42c1839329f8"
      },
      "outputs": [
        {
          "output_type": "stream",
          "name": "stdout",
          "text": [
            "Finding tests in NoName\n",
            "Trying:\n",
            "    f_to_c(212)\n",
            "Expecting:\n",
            "    100.0\n",
            "ok\n",
            "Trying:\n",
            "    f_to_c(32)\n",
            "Expecting:\n",
            "    0.0\n",
            "ok\n",
            "Trying:\n",
            "    f_to_c(98.6)\n",
            "Expecting:\n",
            "    37.0\n",
            "ok\n"
          ]
        }
      ],
      "source": [
        "import doctest\n",
        "doctest.run_docstring_examples(f_to_c, globals(), verbose=True)"
      ]
    },
    {
      "cell_type": "markdown",
      "metadata": {
        "id": "RpVjLD2zQSVZ"
      },
      "source": [
        "### 5.3 Computing Length of Stay\n",
        "\n",
        "For this problem, we have a collection of patient enounter data stored as a Python dictionary.  The `key` for the dictionary is the **encounter ID**, a code that starts with the letter `E` followed by four numbers.  The value associated with each encounter ID is another Python dictionary.  This \"inner\" dictionary holds three items: admit date, primary diagnosis, and discharge date.  See the example in the code below.\n",
        "\n",
        "You need to write a length of stay function that computes the length of stay, in whole days, between the admit date and discharge date.  However, if the diagnosis is \"Observation\" then the length of stay should always be returned as 0 regardless of the admit and discharge dates.\n",
        "\n",
        "You will find it handy to refer to this example here on how to calculate the number of days between two dates: https://stackoverflow.com/questions/151199/how-to-calculate-number-of-days-between-two-given-dates"
      ]
    },
    {
      "cell_type": "code",
      "execution_count": 83,
      "metadata": {
        "id": "VlfQ9LnyQSVZ"
      },
      "outputs": [],
      "source": [
        "from datetime import date\n",
        "\n",
        "### BEGIN SOLUTION\n",
        "\n",
        "def los(admit, discharge, diagnosis):\n",
        "    \"\"\"\n",
        "    Compute the length of stay (LOS) in whole days between the admit and discharge date.\n",
        "    If the diagnosis is \"Observation\", the LOS should always be returned as 0.\n",
        "\n",
        "    Args:\n",
        "    admit (date): The admit date.\n",
        "    discharge (date): The discharge date.\n",
        "    diagnosis (str): The primary diagnosis.\n",
        "\n",
        "    Returns:\n",
        "    int: Length of stay in whole days, or 0 if diagnosis is \"Observation\".\n",
        "\n",
        "    Examples:\n",
        "    >>> los(date(2019,1,3), date(2019,1,8), \"COPD\")\n",
        "    5\n",
        "\n",
        "    >>> los(date(2019,1,15), date(2019,1,16), \"Observation\")\n",
        "    0\n",
        "\n",
        "    >>> los(date(2019,1,4), date(2019,1,4), \"Anxiety\")\n",
        "    0\n",
        "    \"\"\"\n",
        "\n",
        "    # If diagnosis is \"Observation\", return 0 days\n",
        "    if diagnosis == \"Observation\":\n",
        "        return 0\n",
        "\n",
        "    # Compute the difference in days between discharge and admit\n",
        "    delta = discharge - admit\n",
        "    return delta.days\n",
        "\n",
        "\n",
        "### END SOLUTION"
      ]
    },
    {
      "cell_type": "code",
      "execution_count": 84,
      "metadata": {
        "colab": {
          "base_uri": "https://localhost:8080/"
        },
        "id": "3oOO6XQbQSVZ",
        "outputId": "7bc9ebd7-9b4e-4402-f693-a4a755d726e7"
      },
      "outputs": [
        {
          "output_type": "stream",
          "name": "stdout",
          "text": [
            "Finding tests in NoName\n",
            "Trying:\n",
            "    los(date(2019,1,3), date(2019,1,8), \"COPD\")\n",
            "Expecting:\n",
            "    5\n",
            "ok\n",
            "Trying:\n",
            "    los(date(2019,1,15), date(2019,1,16), \"Observation\")\n",
            "Expecting:\n",
            "    0\n",
            "ok\n",
            "Trying:\n",
            "    los(date(2019,1,4), date(2019,1,4), \"Anxiety\")\n",
            "Expecting:\n",
            "    0\n",
            "ok\n"
          ]
        }
      ],
      "source": [
        "import doctest\n",
        "doctest.run_docstring_examples(los, globals(), verbose=True)"
      ]
    },
    {
      "cell_type": "code",
      "execution_count": 85,
      "metadata": {
        "colab": {
          "base_uri": "https://localhost:8080/"
        },
        "id": "fW-o1gdUQSVZ",
        "outputId": "af30414a-6b42-42af-cb8f-b4615d2f0ec6"
      },
      "outputs": [
        {
          "output_type": "stream",
          "name": "stdout",
          "text": [
            "5\n",
            "4\n",
            "1\n",
            "0\n",
            "0\n"
          ]
        }
      ],
      "source": [
        "encounters = {\n",
        "    \"E1234\": { \"admit\": date(2019,1,3), \"diagnosis\": \"COPD\", \"discharge\": date(2019,1,8) },\n",
        "    \"E8342\": { \"admit\": date(2019,1,5), \"diagnosis\": \"Hypertension\", \"discharge\": date(2019,1,9) },\n",
        "    \"E9231\": { \"admit\": date(2019,1,12), \"diagnosis\": \"Anxiety\", \"discharge\": date(2019,1,13) },\n",
        "    \"E8333\": { \"admit\": date(2019,1,15), \"diagnosis\": \"Observation\", \"discharge\": date(2019,1,16) },\n",
        "    \"E3342\": { \"admit\": date(2019,1,4), \"diagnosis\": \"Anxiety\", \"discharge\": date(2019,1,4)}\n",
        "}\n",
        "\n",
        "\n",
        "for e, v in encounters.items():\n",
        "    print(los(v['admit'],v['discharge'],v['diagnosis']))"
      ]
    },
    {
      "cell_type": "markdown",
      "metadata": {
        "id": "sXCTQS0fQSVZ"
      },
      "source": [
        "---\n",
        "---\n",
        "\n",
        "### 5.4 Average Length of Stay\n",
        "\n",
        "Create a function called `average_los` that returns the average of the LOS for the encounters in the provided dictionary. The encounters must be a dictionary that contains dictionaries that each contain at least an admit date and a discharge date.\n",
        "    \n",
        "If the length of stay of any individual encounter is 0, then it will not be counted toward the average."
      ]
    },
    {
      "cell_type": "code",
      "execution_count": 86,
      "metadata": {
        "id": "IVXBRgNCQSVZ"
      },
      "outputs": [],
      "source": [
        "test1 = {\n",
        "        \"E1234\": { \"admit\": date(2019,1,3), \"diagnosis\": \"COPD\", \"discharge\": date(2019,1,8) }\n",
        "}\n",
        "\n",
        "test2 = {\n",
        "        \"E1234\": { \"admit\": date(2019,1,3), \"diagnosis\": \"COPD\", \"discharge\": date(2019,1,8) }\n",
        "}\n",
        "\n",
        "### BEGIN SOLUTION\n",
        "\n",
        "\"\"\"\n",
        "    >>> average_los(test1)\n",
        "    5\n",
        "    \"\"\"\n",
        "def los(admit, discharge, diagnosis):\n",
        "    \"\"\"\n",
        "    Compute the length of stay (LOS) in whole days between the admit and discharge date.\n",
        "    If the diagnosis is \"Observation\", the LOS should always be returned as 0.\n",
        "    \"\"\"\n",
        "    if diagnosis == \"Observation\":\n",
        "        return 0\n",
        "    delta = discharge - admit\n",
        "    return delta.days\n",
        "\n",
        "def average_los(encounters):\n",
        "    \"\"\"\n",
        "    Compute the average length of stay (LOS) for all encounters in the provided dictionary.\n",
        "\n",
        "    The average is calculated by summing all the LOS values (excluding those that are 0)\n",
        "    and dividing by the number of encounters with non-zero LOS.\n",
        "\n",
        "    Args:\n",
        "    encounters (dict): A dictionary where the keys are encounter IDs and the values are \"admit\", \"discharge\", and \"diagnosis\".\n",
        "\n",
        "    Returns:\n",
        "    float: The average length of stay for the encounters.\n",
        "\n",
        "    Examples:\n",
        "    >>> test1 = {\"E1234\": { \"admit\": date(2019,1,3), \"diagnosis\": \"COPD\", \"discharge\": date(2019,1,8) }}\n",
        "    >>> average_los(test1)\n",
        "    5.0\n",
        "\n",
        "    >>> test2 = {\"E1234\": { \"admit\": date(2019,1,3), \"diagnosis\": \"COPD\", \"discharge\": date(2019,1,8) },\n",
        "    ...          \"E8342\": { \"admit\": date(2019,1,5), \"diagnosis\": \"Observation\", \"discharge\": date(2019,1,9) }}\n",
        "    >>> average_los(test2)\n",
        "    5.0\n",
        "    \"\"\"\n",
        "\n",
        "    total_los = 0\n",
        "    count = 0\n",
        "\n",
        "    # Iterate through each encounter\n",
        "    for encounter in encounters.values():\n",
        "        encounter_los = los(encounter['admit'], encounter['discharge'], encounter['diagnosis'])\n",
        "        if encounter_los > 0:\n",
        "            total_los += encounter_los\n",
        "            count += 1\n",
        "\n",
        "    return round(total_los / count, 2) if count > 0 else 0.0\n",
        "\n",
        "\n",
        "\n",
        "\n",
        "### END SOLUTION"
      ]
    },
    {
      "cell_type": "code",
      "execution_count": 87,
      "metadata": {
        "id": "braa3AqcQSVa"
      },
      "outputs": [],
      "source": [
        "from datetime import date\n",
        "encounters = {\n",
        "    \"E1234\": { \"admit\": date(2019,1,3), \"diagnosis\": \"COPD\", \"discharge\": date(2019,1,8) },\n",
        "    \"E8342\": { \"admit\": date(2019,1,5), \"diagnosis\": \"Hypertension\", \"discharge\": date(2019,1,9) },\n",
        "    \"E9231\": { \"admit\": date(2019,1,12), \"diagnosis\": \"Anxiety\", \"discharge\": date(2019,1,13) },\n",
        "    \"E8333\": { \"admit\": date(2019,1,15), \"diagnosis\": \"Observation\", \"discharge\": date(2019,1,16) },\n",
        "    \"E3342\": { \"admit\": date(2019,1,4), \"diagnosis\": \"Anxiety\", \"discharge\": date(2019,1,4)}\n",
        "}\n",
        "\n",
        "assert(average_los(encounters)) == 3.33"
      ]
    },
    {
      "cell_type": "code",
      "execution_count": 88,
      "metadata": {
        "colab": {
          "base_uri": "https://localhost:8080/"
        },
        "id": "w9E3R91zQSVa",
        "outputId": "779bfee7-abcd-4e70-e9ea-912318067787"
      },
      "outputs": [
        {
          "output_type": "stream",
          "name": "stdout",
          "text": [
            "Finding tests in NoName\n",
            "Trying:\n",
            "    test1 = {\"E1234\": { \"admit\": date(2019,1,3), \"diagnosis\": \"COPD\", \"discharge\": date(2019,1,8) }}\n",
            "Expecting nothing\n",
            "ok\n",
            "Trying:\n",
            "    average_los(test1)\n",
            "Expecting:\n",
            "    5.0\n",
            "ok\n",
            "Trying:\n",
            "    test2 = {\"E1234\": { \"admit\": date(2019,1,3), \"diagnosis\": \"COPD\", \"discharge\": date(2019,1,8) },\n",
            "             \"E8342\": { \"admit\": date(2019,1,5), \"diagnosis\": \"Observation\", \"discharge\": date(2019,1,9) }}\n",
            "Expecting nothing\n",
            "ok\n",
            "Trying:\n",
            "    average_los(test2)\n",
            "Expecting:\n",
            "    5.0\n",
            "ok\n"
          ]
        }
      ],
      "source": [
        "import doctest\n",
        "doctest.run_docstring_examples(average_los, globals(), verbose=True)"
      ]
    },
    {
      "cell_type": "markdown",
      "metadata": {
        "id": "2niBc6qHQSVa"
      },
      "source": [
        "---\n",
        "\n",
        "### 5.5 Celsius to Farenheit\n",
        "\n",
        "Write your own function called `c_to_f` that converts degrees Celsius to degrees Farenheit.  Include in your solution a series of doc tests that can verify the conversion using inputs of 100, 0, and 37 degrees Celsius"
      ]
    },
    {
      "cell_type": "code",
      "execution_count": 89,
      "metadata": {
        "id": "7zhKIABVQSVa"
      },
      "outputs": [],
      "source": [
        "### BEGIN SOLUTION\n",
        "\n",
        "def c_to_f(tempc):\n",
        "    \"\"\"\n",
        "    Convert a given temperature in Celsius to Fahrenheit.\n",
        "\n",
        "    The formula used for conversion is: tempf = (9/5) * tempc + 32\n",
        "\n",
        "    Args:\n",
        "    tempc (float): Temperature in Celsius.\n",
        "\n",
        "    Returns:\n",
        "    float: Temperature in Fahrenheit.\n",
        "\n",
        "    Examples:\n",
        "    >>> c_to_f(100)\n",
        "    212.0\n",
        "\n",
        "    >>> c_to_f(0)\n",
        "    32.0\n",
        "\n",
        "    >>> c_to_f(37)\n",
        "    98.6\n",
        "    \"\"\"\n",
        "    # Conversion formula from Celsius to Fahrenheit\n",
        "    tempf = (9 / 5) * tempc + 32\n",
        "    return round(tempf, 1)\n",
        "\n",
        "\n",
        "### END SOLUTION"
      ]
    },
    {
      "cell_type": "code",
      "execution_count": 90,
      "metadata": {
        "colab": {
          "base_uri": "https://localhost:8080/"
        },
        "id": "jgdwxZNsQSVa",
        "outputId": "9954e8fb-c449-4053-a84f-36604cb90b12"
      },
      "outputs": [
        {
          "output_type": "stream",
          "name": "stdout",
          "text": [
            "Finding tests in NoName\n",
            "Trying:\n",
            "    c_to_f(100)\n",
            "Expecting:\n",
            "    212.0\n",
            "ok\n",
            "Trying:\n",
            "    c_to_f(0)\n",
            "Expecting:\n",
            "    32.0\n",
            "ok\n",
            "Trying:\n",
            "    c_to_f(37)\n",
            "Expecting:\n",
            "    98.6\n",
            "ok\n"
          ]
        }
      ],
      "source": [
        "import doctest\n",
        "doctest.run_docstring_examples(c_to_f, globals(), verbose=True)"
      ]
    },
    {
      "cell_type": "code",
      "execution_count": 90,
      "metadata": {
        "id": "SY55QEWlQSVa"
      },
      "outputs": [],
      "source": []
    },
    {
      "cell_type": "code",
      "source": [
        "c_to_f(101)"
      ],
      "metadata": {
        "id": "1SyS31dqYOXg",
        "outputId": "55f6e2e7-756f-4464-b363-b1cdf570eb41",
        "colab": {
          "base_uri": "https://localhost:8080/"
        }
      },
      "execution_count": 91,
      "outputs": [
        {
          "output_type": "execute_result",
          "data": {
            "text/plain": [
              "213.8"
            ]
          },
          "metadata": {},
          "execution_count": 91
        }
      ]
    },
    {
      "cell_type": "markdown",
      "metadata": {
        "id": "ucoQ6ztJQSVa"
      },
      "source": [
        "---\n",
        "\n",
        "## Check your work above\n",
        "\n",
        "If you didn't get them all correct, take a few minutes to think through those that aren't correct.\n",
        "\n",
        "\n",
        "## Submitting Your Work\n",
        "\n",
        "In order to submit your work, you'll need to use the `git` command line program to **add** your homework file (this file) to your local repository, **commit** your changes to your local repository, and then **push** those changes up to github.com.  From there, I'll be able to **pull** the changes down and do my grading.  I'll provide some feedback, **commit** and **push** my comments back to you.  Next week, I'll show you how to **pull** down my comments.\n",
        "\n",
        "First run through everything one last time and submit your work:\n",
        "1. Use the `Kernel` -> `Restart Kernel and Run All Cells` menu option to run everything from top to bottom and stop here.\n",
        "2. Then open a new command line by clicking the `+` icon above the file list and chosing `Terminal`\n",
        "3. At the command line in the new Terminal, follow these steps:\n",
        "  1. Change directories to your project folder and the week03 subfolder (`cd <folder name>`)\n",
        "  2. Make sure your project folders are up to date with github.com (`git pull`)\n",
        "  3. Add the homework files for this week (`git add <file name>`)\n",
        "  4. Commit your changes (`git commit -a -m \"message\"`)\n",
        "  5. Push your changes (`git push`)\n",
        "  \n",
        "If anything fails along the way with this submission part of the process, let me know.  I'll help you troubleshoort."
      ]
    }
  ],
  "metadata": {
    "celltoolbar": "Create Assignment",
    "kernelspec": {
      "display_name": "Python 3",
      "language": "python",
      "name": "python3"
    },
    "language_info": {
      "codemirror_mode": {
        "name": "ipython",
        "version": 3
      },
      "file_extension": ".py",
      "mimetype": "text/x-python",
      "name": "python",
      "nbconvert_exporter": "python",
      "pygments_lexer": "ipython3",
      "version": "3.6.7"
    },
    "colab": {
      "provenance": []
    }
  },
  "nbformat": 4,
  "nbformat_minor": 0
}